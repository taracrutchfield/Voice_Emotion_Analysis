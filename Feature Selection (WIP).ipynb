{
 "cells": [
  {
   "cell_type": "markdown",
   "id": "developing-lexington",
   "metadata": {},
   "source": [
    "# Feature Selection\n",
    "Time to exact all those audio features"
   ]
  },
  {
   "cell_type": "code",
   "execution_count": 33,
   "id": "consolidated-commerce",
   "metadata": {},
   "outputs": [],
   "source": [
    "import pandas as pd\n",
    "import numpy as np\n",
    "import librosa"
   ]
  },
  {
   "cell_type": "code",
   "execution_count": null,
   "id": "removed-operations",
   "metadata": {},
   "outputs": [],
   "source": [
    "data = pd.read_csv('CSVs/Audio Data.csv',index_col='Unnamed: 0')"
   ]
  }
 ],
 "metadata": {
  "kernelspec": {
   "display_name": "Python 3",
   "language": "python",
   "name": "python3"
  },
  "language_info": {
   "codemirror_mode": {
    "name": "ipython",
    "version": 3
   },
   "file_extension": ".py",
   "mimetype": "text/x-python",
   "name": "python",
   "nbconvert_exporter": "python",
   "pygments_lexer": "ipython3",
   "version": "3.8.5"
  }
 },
 "nbformat": 4,
 "nbformat_minor": 5
}
