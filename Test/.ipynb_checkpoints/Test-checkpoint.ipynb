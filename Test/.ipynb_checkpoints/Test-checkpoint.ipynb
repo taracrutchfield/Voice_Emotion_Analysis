{
 "cells": [
  {
   "cell_type": "code",
   "execution_count": 1,
   "id": "commercial-election",
   "metadata": {},
   "outputs": [],
   "source": [
    "import os\n",
    "import numpy as np\n",
    "import pandas as pd\n",
    "import json\n",
    "import librosa\n",
    "import librosa.feature as lf\n",
    "from tensorflow import keras"
   ]
  },
  {
   "cell_type": "code",
   "execution_count": 3,
   "id": "lyric-default",
   "metadata": {},
   "outputs": [
    {
     "data": {
      "text/plain": [
       "['Avg_Pool', 'Avg_Pool_Split', 'Max_Pool']"
      ]
     },
     "execution_count": 3,
     "metadata": {},
     "output_type": "execute_result"
    }
   ],
   "source": [
    "os.listdir('../Data/Model')"
   ]
  },
  {
   "cell_type": "code",
   "execution_count": 5,
   "id": "creative-history",
   "metadata": {},
   "outputs": [
    {
     "ename": "OSError",
     "evalue": "SavedModel file does not exist at: Data/Model/Avg_Pool_Split/{saved_model.pbtxt|saved_model.pb}",
     "output_type": "error",
     "traceback": [
      "\u001b[1;31m---------------------------------------------------------------------------\u001b[0m",
      "\u001b[1;31mOSError\u001b[0m                                   Traceback (most recent call last)",
      "\u001b[1;32m<ipython-input-5-56d258b82661>\u001b[0m in \u001b[0;36m<module>\u001b[1;34m\u001b[0m\n\u001b[1;32m----> 1\u001b[1;33m \u001b[0mkeras\u001b[0m\u001b[1;33m.\u001b[0m\u001b[0mmodels\u001b[0m\u001b[1;33m.\u001b[0m\u001b[0mload_model\u001b[0m\u001b[1;33m(\u001b[0m\u001b[1;34m'Data/Model/Avg_Pool_Split'\u001b[0m\u001b[1;33m)\u001b[0m\u001b[1;33m\u001b[0m\u001b[1;33m\u001b[0m\u001b[0m\n\u001b[0m",
      "\u001b[1;32m~\\anaconda3\\envs\\project\\lib\\site-packages\\tensorflow\\python\\keras\\saving\\save.py\u001b[0m in \u001b[0;36mload_model\u001b[1;34m(filepath, custom_objects, compile, options)\u001b[0m\n\u001b[0;32m    209\u001b[0m       \u001b[0mfilepath\u001b[0m \u001b[1;33m=\u001b[0m \u001b[0mpath_to_string\u001b[0m\u001b[1;33m(\u001b[0m\u001b[0mfilepath\u001b[0m\u001b[1;33m)\u001b[0m\u001b[1;33m\u001b[0m\u001b[1;33m\u001b[0m\u001b[0m\n\u001b[0;32m    210\u001b[0m       \u001b[1;32mif\u001b[0m \u001b[0misinstance\u001b[0m\u001b[1;33m(\u001b[0m\u001b[0mfilepath\u001b[0m\u001b[1;33m,\u001b[0m \u001b[0msix\u001b[0m\u001b[1;33m.\u001b[0m\u001b[0mstring_types\u001b[0m\u001b[1;33m)\u001b[0m\u001b[1;33m:\u001b[0m\u001b[1;33m\u001b[0m\u001b[1;33m\u001b[0m\u001b[0m\n\u001b[1;32m--> 211\u001b[1;33m         \u001b[0mloader_impl\u001b[0m\u001b[1;33m.\u001b[0m\u001b[0mparse_saved_model\u001b[0m\u001b[1;33m(\u001b[0m\u001b[0mfilepath\u001b[0m\u001b[1;33m)\u001b[0m\u001b[1;33m\u001b[0m\u001b[1;33m\u001b[0m\u001b[0m\n\u001b[0m\u001b[0;32m    212\u001b[0m         \u001b[1;32mreturn\u001b[0m \u001b[0msaved_model_load\u001b[0m\u001b[1;33m.\u001b[0m\u001b[0mload\u001b[0m\u001b[1;33m(\u001b[0m\u001b[0mfilepath\u001b[0m\u001b[1;33m,\u001b[0m \u001b[0mcompile\u001b[0m\u001b[1;33m,\u001b[0m \u001b[0moptions\u001b[0m\u001b[1;33m)\u001b[0m\u001b[1;33m\u001b[0m\u001b[1;33m\u001b[0m\u001b[0m\n\u001b[0;32m    213\u001b[0m \u001b[1;33m\u001b[0m\u001b[0m\n",
      "\u001b[1;32m~\\anaconda3\\envs\\project\\lib\\site-packages\\tensorflow\\python\\saved_model\\loader_impl.py\u001b[0m in \u001b[0;36mparse_saved_model\u001b[1;34m(export_dir)\u001b[0m\n\u001b[0;32m    109\u001b[0m       \u001b[1;32mraise\u001b[0m \u001b[0mIOError\u001b[0m\u001b[1;33m(\u001b[0m\u001b[1;34m\"Cannot parse file %s: %s.\"\u001b[0m \u001b[1;33m%\u001b[0m \u001b[1;33m(\u001b[0m\u001b[0mpath_to_pbtxt\u001b[0m\u001b[1;33m,\u001b[0m \u001b[0mstr\u001b[0m\u001b[1;33m(\u001b[0m\u001b[0me\u001b[0m\u001b[1;33m)\u001b[0m\u001b[1;33m)\u001b[0m\u001b[1;33m)\u001b[0m\u001b[1;33m\u001b[0m\u001b[1;33m\u001b[0m\u001b[0m\n\u001b[0;32m    110\u001b[0m   \u001b[1;32melse\u001b[0m\u001b[1;33m:\u001b[0m\u001b[1;33m\u001b[0m\u001b[1;33m\u001b[0m\u001b[0m\n\u001b[1;32m--> 111\u001b[1;33m     raise IOError(\"SavedModel file does not exist at: %s/{%s|%s}\" %\n\u001b[0m\u001b[0;32m    112\u001b[0m                   (export_dir,\n\u001b[0;32m    113\u001b[0m                    \u001b[0mconstants\u001b[0m\u001b[1;33m.\u001b[0m\u001b[0mSAVED_MODEL_FILENAME_PBTXT\u001b[0m\u001b[1;33m,\u001b[0m\u001b[1;33m\u001b[0m\u001b[1;33m\u001b[0m\u001b[0m\n",
      "\u001b[1;31mOSError\u001b[0m: SavedModel file does not exist at: Data/Model/Avg_Pool_Split/{saved_model.pbtxt|saved_model.pb}"
     ]
    }
   ],
   "source": [
    "keras.models.load_model('Data/Model/Avg_Pool_Split')"
   ]
  },
  {
   "cell_type": "code",
   "execution_count": 2,
   "id": "million-christian",
   "metadata": {},
   "outputs": [],
   "source": [
    "# load the min and max of the training sets for normalizing \n",
    "with open('Data/Model Config/Scale_Config.json') as f:\n",
    "    scalers = json.load(f)"
   ]
  },
  {
   "cell_type": "code",
   "execution_count": 3,
   "id": "recent-locator",
   "metadata": {},
   "outputs": [
    {
     "name": "stdout",
     "output_type": "stream",
     "text": [
      "Collecting and Filtering Clips\n",
      "Complete!                \n",
      "\n"
     ]
    }
   ],
   "source": [
    "print('Collecting and Filtering Clips')\n",
    "path = 'test/'\n",
    "files = os.listdir(path)\n",
    "audio = pd.DataFrame()\n",
    "for count, track in enumerate(files,start=1):\n",
    "    if '.wav' in track:\n",
    "        try:\n",
    "            clip, sample_rate = librosa.load(path+track, sr=16000)\n",
    "        except:\n",
    "            clip, sample_rate = np.nan,np.nan\n",
    "    audio = audio.append({'track_name':track,'audio':clip,'sample_rate':sample_rate},ignore_index=True)\n",
    "    print('%d of %d complete (%d%%)' % (count,len(files),(count/len(files))*100),end='\\r')   \n",
    "audio = audio.set_index('track_name')\n",
    "print('%-25s\\n' % 'Complete!') "
   ]
  },
  {
   "cell_type": "code",
   "execution_count": 4,
   "id": "assured-mambo",
   "metadata": {},
   "outputs": [
    {
     "name": "stdout",
     "output_type": "stream",
     "text": [
      "Extracting Features\n",
      "Complete!                \n",
      "\n"
     ]
    }
   ],
   "source": [
    "print(\"Extracting Features\")\n",
    "columns = ['track_name','mel spectrogram','chroma','mel cepstral','centroid','rolloff']\n",
    "features = pd.DataFrame(columns=columns)\n",
    "for count,track in enumerate(audio.index,start=1):\n",
    "    clip = audio.loc[track]['audio']\n",
    "    sample_rate = audio.loc[track]['sample_rate']\n",
    "    try:\n",
    "        L = [track,\n",
    "             # mel-frequency spectrogram\n",
    "             lf.melspectrogram(clip,sample_rate),\n",
    "             # chroma features\n",
    "             lf.chroma_stft(clip,sample_rate),        \n",
    "             # mel-frequency cepstral coefficients\n",
    "             lf.mfcc(clip,sample_rate),\n",
    "             # spectral centroid\n",
    "             lf.spectral_centroid(clip,sample_rate),\n",
    "             # spectral roll off\n",
    "             lf.spectral_rolloff(clip,sample_rate)]\n",
    "        features = features.append(dict(zip(columns,L)),ignore_index=True)\n",
    "    except:\n",
    "        print('An error has occured on the track \"%s\".' % (track))\n",
    "    print('%d of %d complete (%d%%)' % (count,len(audio.index),(count/len(audio.index))*100)\n",
    "          ,end='\\r')\n",
    "features = features.set_index('track_name')\n",
    "features['mel spectrogram'] = [librosa.power_to_db(entry, ref=np.max) for entry in features['mel spectrogram']]\n",
    "print('%-25s\\n' % 'Complete!') "
   ]
  },
  {
   "cell_type": "code",
   "execution_count": 5,
   "id": "hazardous-gateway",
   "metadata": {},
   "outputs": [
    {
     "name": "stdout",
     "output_type": "stream",
     "text": [
      "Normalizing Features\n",
      "Complete!                \n",
      "\n",
      "Combining Data\n",
      "Complete!                \n",
      "\n"
     ]
    }
   ],
   "source": [
    "# normalize by feature\n",
    "def normalize(data,column):\n",
    "    feat_min = scalers[column]['min']\n",
    "    feat_max = scalers[column]['max']\n",
    "    array = data[column].to_numpy()\n",
    "    array = (array-feat_min)/(feat_max-feat_min)\n",
    "    return array\n",
    "\n",
    "def concat(data,columns):\n",
    "    concat_img = pd.DataFrame(columns=['track','final'])\n",
    "    for index in data.index:\n",
    "        for column in columns:\n",
    "            entry = data.loc[index][column]\n",
    "            if column == columns[0]:\n",
    "                flat_entry = entry\n",
    "            else:\n",
    "                flat_entry = np.concatenate((flat_entry,entry),axis=0)\n",
    "        concat_img = concat_img.append({'track':index,'final':flat_entry},ignore_index=True)\n",
    "    return concat_img\n",
    "\n",
    "final = pd.DataFrame()\n",
    "\n",
    "print('Normalizing Features')\n",
    "for column in features.columns:\n",
    "    features[column] = normalize(features,column)\n",
    "print('%-25s\\n' % 'Complete!') \n",
    "\n",
    "print('Combining Data')\n",
    "final = concat(features,features.columns)\n",
    "final = final.set_index('track')\n",
    "print('%-25s\\n' % 'Complete!') "
   ]
  },
  {
   "cell_type": "code",
   "execution_count": 6,
   "id": "continued-geology",
   "metadata": {
    "scrolled": false
   },
   "outputs": [
    {
     "name": "stdout",
     "output_type": "stream",
     "text": [
      "Splitting and Padding Audio\n",
      "Complete!                \n",
      "\n"
     ]
    }
   ],
   "source": [
    "print('Splitting and Padding Audio')\n",
    "clips = pd.DataFrame()\n",
    "max_len=140\n",
    "for index in final.index:\n",
    "    colname = index+'_slice'\n",
    "    img = final.loc[index][0]\n",
    "    array_len = img.shape[1]\n",
    "    if array_len > max_len:\n",
    "        n_slices = array_len//max_len\n",
    "        remainder = array_len%max_len\n",
    "        for n in range(n_slices):\n",
    "            front = n*max_len\n",
    "            back = front+max_len\n",
    "            img_slice = img[:,front:back]\n",
    "            clips = clips.append({colname:img_slice},ignore_index=True)\n",
    "        if remainder != 0:\n",
    "            img_slice = img[:,-remainder:]\n",
    "            zeros = max_len - remainder\n",
    "            front = int(zeros/2)\n",
    "            back = int(zeros-front)\n",
    "            img_slice = np.pad(img_slice, ((0,0),(front,back)))\n",
    "            clips = clips.append({colname:img_slice},ignore_index=True)\n",
    "    if array_len <= max_len:\n",
    "        zeros = max_len - array_len\n",
    "        front = int(zeros/2)\n",
    "        back = int(zeros-front)\n",
    "        img = np.pad(img, ((0,0),(front,back)))\n",
    "        clips = clip.appends({colname:img},ignore_index=True)\n",
    "print('%-25s\\n' % 'Complete!') "
   ]
  },
  {
   "cell_type": "code",
   "execution_count": 10,
   "id": "comprehensive-threshold",
   "metadata": {},
   "outputs": [],
   "source": [
    "for track in clips.columns:\n",
    "    track = clips[track].dropna()\n",
    "    for snippet in track:\n",
    "        snippet"
   ]
  }
 ],
 "metadata": {
  "kernelspec": {
   "display_name": "Python 3",
   "language": "python",
   "name": "python3"
  },
  "language_info": {
   "codemirror_mode": {
    "name": "ipython",
    "version": 3
   },
   "file_extension": ".py",
   "mimetype": "text/x-python",
   "name": "python",
   "nbconvert_exporter": "python",
   "pygments_lexer": "ipython3",
   "version": "3.8.5"
  }
 },
 "nbformat": 4,
 "nbformat_minor": 5
}
