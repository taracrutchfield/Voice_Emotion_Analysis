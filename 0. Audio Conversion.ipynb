{
 "cells": [
  {
   "cell_type": "markdown",
   "id": "forward-winning",
   "metadata": {},
   "source": [
    "# Audio Conversion\n",
    "I did all my audio processing in the form of WAV files, but these are way too big to upload back and forth through github. So, I created this file to easily convert all the audio between WAV files and MP3 files. "
   ]
  },
  {
   "cell_type": "code",
   "execution_count": null,
   "id": "local-first",
   "metadata": {},
   "outputs": [],
   "source": [
    "from pydub import AudioSegment\n",
    "import os\n",
    "import shutil"
   ]
  },
  {
   "cell_type": "code",
   "execution_count": null,
   "id": "exceptional-battlefield",
   "metadata": {},
   "outputs": [],
   "source": [
    "def file_to(file_type,file,old_path,new_path):    \n",
    "    if file_type == 'wav':\n",
    "        sound = AudioSegment.from_mp3(old_path+'/'+file)\n",
    "    if file_type == 'mp3':\n",
    "        sound = AudioSegment.from_wav(old_path+'/'+file)\n",
    "    path = '%s/%s.%s' % (new_path,file[:-4],file_type)\n",
    "    sound.export(path, format=file_type)"
   ]
  },
  {
   "cell_type": "markdown",
   "id": "violent-knight",
   "metadata": {},
   "source": [
    "Ask for which conversion."
   ]
  },
  {
   "cell_type": "code",
   "execution_count": null,
   "id": "accompanied-tobago",
   "metadata": {},
   "outputs": [],
   "source": [
    "ask = input('MP3 -> WAV [0]\\nWAV -> MP3 [1]\\n')\n",
    "\n",
    "# making sure answers are all good\n",
    "while ask != 0 or ask != 1:\n",
    "    if type(ask) == str:\n",
    "        try:\n",
    "            ask = int(ask)\n",
    "            if ask == 0 or ask == 1:\n",
    "                break\n",
    "            else:\n",
    "                ask = input('Please enter either 0 or 1: ') \n",
    "        except:\n",
    "            ask = input('Please enter either 0 or 1: ')\n",
    "            \n",
    "if ask == 0:\n",
    "    start='mp3'\n",
    "    end='wav'\n",
    "if ask == 1:\n",
    "    start = 'wav'\n",
    "    end='mp3'"
   ]
  },
  {
   "cell_type": "markdown",
   "id": "rubber-eight",
   "metadata": {},
   "source": [
    "Creates a **new** file named `Data` and change the name of the original file to something like `Data - MP3` depending on the original file type. The converted files will go to the new `Data` folder and the CSVs will transfer along with it."
   ]
  },
  {
   "cell_type": "code",
   "execution_count": null,
   "id": "coordinated-level",
   "metadata": {},
   "outputs": [],
   "source": [
    "old_filename = 'Data - %s' % start.upper()\n",
    "new_filename = 'Data'\n",
    "os.rename('Data',old_filename)\n",
    "\n",
    "if new_filename not in os.listdir():\n",
    "    os.mkdir(new_filename)"
   ]
  },
  {
   "cell_type": "code",
   "execution_count": null,
   "id": "external-symposium",
   "metadata": {},
   "outputs": [],
   "source": [
    "print('Converting %s to %s' % (start,end))\n",
    "paths = ['Audio/Clean','Audio/Raw/RAVDESS','Audio/Raw/CREMA_D']\n",
    "\n",
    "count = 1\n",
    "for path in paths:\n",
    "    # set up paths\n",
    "    old_path = old_filename+'/'+path\n",
    "    new_path = new_filename+'/'+path\n",
    "    # create folders if they dont exist\n",
    "    if os.path.exists(new_path) == False:\n",
    "        make = str(new_filename)\n",
    "        for folder in path.split('/'): \n",
    "            make+=('/'+folder)\n",
    "            try:\n",
    "                os.mkdir(make)\n",
    "            except:\n",
    "                pass\n",
    "    # convert files\n",
    "    for file in os.listdir(old_path):\n",
    "        if start in file:\n",
    "            file_to(end,file,old_path,new_path)\n",
    "            \n",
    "shutil.move(old_filename+'/CSVs',new_filename+'/CSVs')\n",
    "print('Process Complete')"
   ]
  }
 ],
 "metadata": {
  "kernelspec": {
   "display_name": "Python 3",
   "language": "python",
   "name": "python3"
  },
  "language_info": {
   "codemirror_mode": {
    "name": "ipython",
    "version": 3
   },
   "file_extension": ".py",
   "mimetype": "text/x-python",
   "name": "python",
   "nbconvert_exporter": "python",
   "pygments_lexer": "ipython3",
   "version": "3.8.5"
  }
 },
 "nbformat": 4,
 "nbformat_minor": 5
}
