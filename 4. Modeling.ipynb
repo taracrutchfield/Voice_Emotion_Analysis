{
 "cells": [
  {
   "cell_type": "code",
   "execution_count": 32,
   "id": "tight-prefix",
   "metadata": {},
   "outputs": [],
   "source": [
    "from keras.preprocessing.image import load_img, array_to_img\n",
    "from keras.models import Sequential\n",
    "from keras.layers import Dense\n",
    "from keras.utils  import to_categorical\n",
    "\n",
    "import pandas as pd"
   ]
  },
  {
   "cell_type": "code",
   "execution_count": 16,
   "id": "trained-clothing",
   "metadata": {},
   "outputs": [
    {
     "data": {
      "text/html": [
       "<div>\n",
       "<style scoped>\n",
       "    .dataframe tbody tr th:only-of-type {\n",
       "        vertical-align: middle;\n",
       "    }\n",
       "\n",
       "    .dataframe tbody tr th {\n",
       "        vertical-align: top;\n",
       "    }\n",
       "\n",
       "    .dataframe thead th {\n",
       "        text-align: right;\n",
       "    }\n",
       "</style>\n",
       "<table border=\"1\" class=\"dataframe\">\n",
       "  <thead>\n",
       "    <tr style=\"text-align: right;\">\n",
       "      <th></th>\n",
       "      <th>filename</th>\n",
       "      <th>mel spectrogram</th>\n",
       "      <th>emotion</th>\n",
       "    </tr>\n",
       "  </thead>\n",
       "  <tbody>\n",
       "    <tr>\n",
       "      <th>0</th>\n",
       "      <td>Clip_0000.wav</td>\n",
       "      <td>[[2.24355092e-03 1.11679745e-02 2.63704309e-02...</td>\n",
       "      <td>anger</td>\n",
       "    </tr>\n",
       "    <tr>\n",
       "      <th>1</th>\n",
       "      <td>Clip_0001.wav</td>\n",
       "      <td>[[1.18430909e-03 2.84435626e-03 1.12520859e-03...</td>\n",
       "      <td>disgust</td>\n",
       "    </tr>\n",
       "    <tr>\n",
       "      <th>2</th>\n",
       "      <td>Clip_0002.wav</td>\n",
       "      <td>[[1.71939240e-02 3.05877019e-02 1.10051150e-02...</td>\n",
       "      <td>fear</td>\n",
       "    </tr>\n",
       "    <tr>\n",
       "      <th>3</th>\n",
       "      <td>Clip_0003.wav</td>\n",
       "      <td>[[5.22582862e-03 1.80005046e-02 2.17604666e-02...</td>\n",
       "      <td>happy</td>\n",
       "    </tr>\n",
       "    <tr>\n",
       "      <th>4</th>\n",
       "      <td>Clip_0004.wav</td>\n",
       "      <td>[[2.25243309e-03 1.28637803e-03 1.61042142e-03...</td>\n",
       "      <td>neutral</td>\n",
       "    </tr>\n",
       "  </tbody>\n",
       "</table>\n",
       "</div>"
      ],
      "text/plain": [
       "        filename                                    mel spectrogram  emotion\n",
       "0  Clip_0000.wav  [[2.24355092e-03 1.11679745e-02 2.63704309e-02...    anger\n",
       "1  Clip_0001.wav  [[1.18430909e-03 2.84435626e-03 1.12520859e-03...  disgust\n",
       "2  Clip_0002.wav  [[1.71939240e-02 3.05877019e-02 1.10051150e-02...     fear\n",
       "3  Clip_0003.wav  [[5.22582862e-03 1.80005046e-02 2.17604666e-02...    happy\n",
       "4  Clip_0004.wav  [[2.25243309e-03 1.28637803e-03 1.61042142e-03...  neutral"
      ]
     },
     "execution_count": 16,
     "metadata": {},
     "output_type": "execute_result"
    }
   ],
   "source": [
    "data = pd.read_csv('Data/CSVs/test.csv',index_col='Unnamed: 0')\n",
    "data.head()"
   ]
  },
  {
   "cell_type": "code",
   "execution_count": 30,
   "id": "earned-combine",
   "metadata": {},
   "outputs": [],
   "source": [
    "X = data['mel spectrogram']\n",
    "y = pd.Categorical(data['emotion']).codes\n",
    "y = to_categorical(y)"
   ]
  },
  {
   "cell_type": "code",
   "execution_count": 35,
   "id": "turned-store",
   "metadata": {},
   "outputs": [
    {
     "data": {
      "text/plain": [
       "0       [[2.24355092e-03 1.11679745e-02 2.63704309e-02...\n",
       "1       [[1.18430909e-03 2.84435626e-03 1.12520859e-03...\n",
       "2       [[1.71939240e-02 3.05877019e-02 1.10051150e-02...\n",
       "3       [[5.22582862e-03 1.80005046e-02 2.17604666e-02...\n",
       "4       [[2.25243309e-03 1.28637803e-03 1.61042142e-03...\n",
       "                              ...                        \n",
       "8828    [[7.57395012e-08 1.14424373e-07 3.02476920e-08...\n",
       "8829    [[1.68337573e-07 2.02579657e-07 2.35806594e-07...\n",
       "8830    [[3.45963079e-07 1.74618189e-07 2.85395318e-07...\n",
       "8831    [[1.55944094e-07 3.45581712e-07 4.27169626e-07...\n",
       "8832    [[1.94998337e-09 9.47179715e-09 1.06549379e-07...\n",
       "Name: mel spectrogram, Length: 8833, dtype: object"
      ]
     },
     "execution_count": 35,
     "metadata": {},
     "output_type": "execute_result"
    }
   ],
   "source": [
    "X"
   ]
  },
  {
   "cell_type": "code",
   "execution_count": null,
   "id": "better-checklist",
   "metadata": {},
   "outputs": [],
   "source": []
  }
 ],
 "metadata": {
  "kernelspec": {
   "display_name": "Python 3",
   "language": "python",
   "name": "python3"
  },
  "language_info": {
   "codemirror_mode": {
    "name": "ipython",
    "version": 3
   },
   "file_extension": ".py",
   "mimetype": "text/x-python",
   "name": "python",
   "nbconvert_exporter": "python",
   "pygments_lexer": "ipython3",
   "version": "3.8.5"
  }
 },
 "nbformat": 4,
 "nbformat_minor": 5
}
