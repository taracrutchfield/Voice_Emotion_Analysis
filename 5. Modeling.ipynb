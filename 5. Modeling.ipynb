{
 "cells": [
  {
   "cell_type": "code",
   "execution_count": 1,
   "id": "editorial-eagle",
   "metadata": {},
   "outputs": [],
   "source": [
    "# standard packages\n",
    "import json\n",
    "import numpy as np\n",
    "import os\n",
    "import pandas as pd\n",
    "import matplotlib.pyplot as plt\n",
    "from datetime import datetime\n",
    "\n",
    "# machine learning\n",
    "from sklearn.model_selection import train_test_split\n",
    "import keras\n",
    "from keras import preprocessing\n",
    "from keras import layers\n",
    "from keras.callbacks import Callback\n",
    "import gc"
   ]
  },
  {
   "cell_type": "code",
   "execution_count": 2,
   "id": "municipal-binding",
   "metadata": {},
   "outputs": [
    {
     "name": "stdout",
     "output_type": "stream",
     "text": [
      "Loading Images:\n",
      "8651 of 8651 complete (100%)\r"
     ]
    }
   ],
   "source": [
    "# import legend\n",
    "legend = pd.read_csv('Data/CSVs/Audio Legend Clean.csv')[['emotion','filename']].dropna()\n",
    "legend['filename'] = legend['filename'].str.replace('.wav','',regex=True)\n",
    "\n",
    "X = []\n",
    "y = pd.factorize(legend['emotion'])[0] + 1\n",
    "\n",
    "print('Loading Images:')\n",
    "for count, file in enumerate(legend['filename'],start=1):\n",
    "    image = preprocessing.image.load_img('Data/Images/'+file+'.png')\n",
    "    input_arr = preprocessing.image.img_to_array(image)\n",
    "    X.append(input_arr)\n",
    "    print('%4d of %d complete (%d%%)' % (count,len(legend['filename']),(count/len(legend['filename']))*100),end='\\r')"
   ]
  },
  {
   "cell_type": "code",
   "execution_count": 3,
   "id": "increasing-castle",
   "metadata": {},
   "outputs": [],
   "source": [
    "# Open JSON file \n",
    "with open(\"Model Config.json\") as json_file: \n",
    "    config = json.load(json_file) "
   ]
  },
  {
   "cell_type": "code",
   "execution_count": 4,
   "id": "attempted-mainstream",
   "metadata": {},
   "outputs": [],
   "source": [
    "# split dataset into X and y variables\n",
    "X = np.array(X)\n",
    "y = keras.utils.to_categorical(y)\n",
    "\n",
    "# split into training and test sets\n",
    "X_train, X_test, y_train, y_test = train_test_split(X,y,train_size=.70,random_state=config['seed'])\n",
    "\n",
    "# split test set into a validation and test sets\n",
    "val_cutoff = int(len(X_test)/2)\n",
    "X_val = X_test[:val_cutoff]\n",
    "y_val = y_test[:val_cutoff]\n",
    "X_test = X_test[val_cutoff:]\n",
    "y_test = y_test[val_cutoff:]"
   ]
  },
  {
   "cell_type": "code",
   "execution_count": 5,
   "id": "ancient-reservoir",
   "metadata": {},
   "outputs": [
    {
     "name": "stdout",
     "output_type": "stream",
     "text": [
      "Model: \"Example\"\n",
      "_________________________________________________________________\n",
      "Layer (type)                 Output Shape              Param #   \n",
      "=================================================================\n",
      "conv2d (Conv2D)              (None, 162, 265, 32)      896       \n",
      "_________________________________________________________________\n",
      "conv2d_1 (Conv2D)            (None, 160, 263, 64)      18496     \n",
      "_________________________________________________________________\n",
      "dropout (Dropout)            (None, 160, 263, 64)      0         \n",
      "_________________________________________________________________\n",
      "flatten (Flatten)            (None, 2693120)           0         \n",
      "_________________________________________________________________\n",
      "dense (Dense)                (None, 64)                172359744 \n",
      "_________________________________________________________________\n",
      "dropout_1 (Dropout)          (None, 64)                0         \n",
      "_________________________________________________________________\n",
      "dense_1 (Dense)              (None, 7)                 455       \n",
      "=================================================================\n",
      "Total params: 172,379,591\n",
      "Trainable params: 172,379,591\n",
      "Non-trainable params: 0\n",
      "_________________________________________________________________\n",
      "None\n"
     ]
    }
   ],
   "source": [
    "# make a model\n",
    "model = keras.models.Sequential(name=config['model name'])\n",
    "\n",
    "# add empty layer with input shapes\n",
    "model.add(keras.Input(shape=X_train.shape[1:]))\n",
    "# add layers from json\n",
    "for key in config['layers'].keys():\n",
    "    layer = config['layers'][key]\n",
    "    if layer[0] == 'Conv2D':\n",
    "        model.add(layers.Conv2D(layer[1],(layer[2],layer[3]), activation=layer[4]))\n",
    "    if layer[0] == 'Dropout':\n",
    "        model.add(layers.Dropout(layer[1]))\n",
    "    if layer[0] == 'Dense':\n",
    "        model.add(layers.Dense(layer[1], activation=layer[2]))\n",
    "    if layer[0] == 'Flatten':\n",
    "        model.add(layers.Flatten())\n",
    "    \n",
    "# compile\n",
    "compiler = config['compiler']\n",
    "model.compile(loss=compiler['loss'],\n",
    "              optimizer=compiler['optimizer'],\n",
    "              metrics=compiler['metrics'])\n",
    "# print summary    \n",
    "print(model.summary())"
   ]
  },
  {
   "cell_type": "code",
   "execution_count": 6,
   "id": "rational-knowing",
   "metadata": {},
   "outputs": [
    {
     "name": "stdout",
     "output_type": "stream",
     "text": [
      "\n",
      "Start Time: 2021-02-04 17:47:00.812332\n",
      "Epoch 1/3\n",
      "190/190 [==============================] - 629s 3s/step - loss: 1075.6614 - accuracy: 0.2058 - val_loss: 1.7281 - val_accuracy: 0.2904\n",
      "Epoch 2/3\n",
      "190/190 [==============================] - 624s 3s/step - loss: 1.6311 - accuracy: 0.3343 - val_loss: 1.6672 - val_accuracy: 0.2989\n",
      "Epoch 3/3\n",
      "190/190 [==============================] - 625s 3s/step - loss: 1.2760 - accuracy: 0.5026 - val_loss: 1.6531 - val_accuracy: 0.3213\n",
      "End Time:   2021-02-04 18:18:21.237106\n"
     ]
    }
   ],
   "source": [
    "class MyCustomCallback(Callback):\n",
    "      def on_epoch_end(self, epoch, logs=None):\n",
    "            gc.collect()\n",
    "            \n",
    "# fit model and print start and end times\n",
    "print('\\nStart Time:',datetime.now())      \n",
    "history = model.fit(X_train,y_train, validation_data=(X_val, y_val), \n",
    "                    epochs=config['epochs'], verbose=1, callbacks=[MyCustomCallback()])\n",
    "print('End Time:  ',datetime.now())"
   ]
  },
  {
   "cell_type": "code",
   "execution_count": 7,
   "id": "hungry-postcard",
   "metadata": {},
   "outputs": [
    {
     "data": {
      "image/png": "[encoded data removed]",
      "text/plain": [
       "<Figure size 600x400 with 1 Axes>"
      ]
     },
     "metadata": {
      "needs_background": "light"
     },
     "output_type": "display_data"
    }
   ],
   "source": [
    "# make a plot of the accuracy with each epoch\n",
    "epoch_accuracy = plt.figure(figsize=(6,4),dpi=100)\n",
    "plot_name = 'Epoch v Accuracy - %s.png' % model.name\n",
    "plt.plot(history.history['accuracy'], label='accuracy')\n",
    "plt.plot(history.history['val_accuracy'], label = 'val_accuracy')\n",
    "plt.xlabel('Epoch')\n",
    "plt.ylabel('Accuracy')\n",
    "plt.title(plot_name)\n",
    "plt.legend();\n",
    "\n",
    "# save plot in Plots\n",
    "epoch_accuracy.savefig('Data/Plots/'+plot_name)"
   ]
  },
  {
   "cell_type": "code",
   "execution_count": 8,
   "id": "sunrise-evening",
   "metadata": {},
   "outputs": [
    {
     "name": "stdout",
     "output_type": "stream",
     "text": [
      "Model: Example\n",
      "Accuracy: 30%\n"
     ]
    }
   ],
   "source": [
    "predict = model.predict(X_test)\n",
    "\n",
    "pred = []\n",
    "true = []\n",
    "\n",
    "for i in range(len(X_test)):\n",
    "    pred.append(np.argmax(predict[i]))\n",
    "    true.append(np.argmax(y_test[i]))\n",
    "    \n",
    "predictions = pd.DataFrame({'prediction':pred,'true':true})\n",
    "\n",
    "accuracy = int(len(predictions[predictions['prediction'] == predictions['true']])/len(predictions)*100)\n",
    "print('Model:',model.name)\n",
    "print('Accuracy: %d%%' % accuracy)\n",
    "\n",
    "predictions.to_csv('Data/CSVs/Predictions.csv')"
   ]
  }
 ],
 "metadata": {
  "kernelspec": {
   "display_name": "Python 3",
   "language": "python",
   "name": "python3"
  },
  "language_info": {
   "codemirror_mode": {
    "name": "ipython",
    "version": 3
   },
   "file_extension": ".py",
   "mimetype": "text/x-python",
   "name": "python",
   "nbconvert_exporter": "python",
   "pygments_lexer": "ipython3",
   "version": "3.8.5"
  }
 },
 "nbformat": 4,
 "nbformat_minor": 5
}
