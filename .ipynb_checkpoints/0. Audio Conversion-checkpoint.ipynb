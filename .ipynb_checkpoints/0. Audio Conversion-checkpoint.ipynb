{
 "cells": [
  {
   "cell_type": "markdown",
   "id": "imposed-elephant",
   "metadata": {},
   "source": [
    "# Audio Conversion\n",
    "I did all my audio processing in the form of WAV files, but these are way too big to upload back and forth through github. So, I created this file to easily convert all the audio between WAV files and MP3 files. "
   ]
  },
  {
   "cell_type": "code",
   "execution_count": 2,
   "id": "curious-supply",
   "metadata": {},
   "outputs": [],
   "source": [
    "from pydub import AudioSegment\n",
    "import os\n",
    "import shutil"
   ]
  },
  {
   "cell_type": "markdown",
   "id": "retired-violation",
   "metadata": {},
   "source": [
    "Asks for which conversion."
   ]
  },
  {
   "cell_type": "code",
   "execution_count": 3,
   "id": "stunning-daniel",
   "metadata": {},
   "outputs": [
    {
     "name": "stdout",
     "output_type": "stream",
     "text": [
      "MP3 -> WAV [0]\n",
      "WAV -> MP3 [1]\n",
      "1\n"
     ]
    }
   ],
   "source": [
    "ask = input('MP3 -> WAV [0]\\nWAV -> MP3 [1]\\n')\n",
    "\n",
    "# making sure answers are all good\n",
    "while ask != 0 or ask != 1:\n",
    "    if type(ask) == str:\n",
    "        try:\n",
    "            ask = int(ask)\n",
    "            if ask == 0 or ask == 1:\n",
    "                break\n",
    "            else:\n",
    "                ask = input('Please enter either 0 or 1: ') \n",
    "        except:\n",
    "            ask = input('Please enter either 0 or 1: ')\n",
    "            \n",
    "if ask == 0:\n",
    "    start='mp3'\n",
    "    end='wav'\n",
    "if ask == 1:\n",
    "    start = 'wav'\n",
    "    end='mp3'"
   ]
  },
  {
   "cell_type": "markdown",
   "id": "sharing-seller",
   "metadata": {},
   "source": [
    "Creates a **new** file named `<OLD FILE TYPE> Audio` and places the old audio files in there. Converts clips and places the back into the `Data` folder"
   ]
  },
  {
   "cell_type": "code",
   "execution_count": 5,
   "id": "artificial-clothing",
   "metadata": {},
   "outputs": [],
   "source": [
    "new_folder = '%s Audio' % end.upper()\n",
    "old_folder = 'Data/Audio'\n",
    "\n",
    "# make folder if it doesnt exist\n",
    "if new_folder not in os.listdir():\n",
    "    os.mkdir(new_folder)\n",
    "    \n",
    "# move audio files to a different folder    \n",
    "for folder in os.listdir(old_folder):\n",
    "    shutil.move(old_folder+'/'+folder,new_folder+'/'+folder)"
   ]
  },
  {
   "cell_type": "code",
   "execution_count": 7,
   "id": "designed-financing",
   "metadata": {},
   "outputs": [
    {
     "name": "stdout",
     "output_type": "stream",
     "text": [
      "Converting wav to mp3\n",
      "17724 of 17724 complete (100%)\r"
     ]
    }
   ],
   "source": [
    " def file_to(file_type,file,old_path,new_path):    \n",
    "    if file_type == 'wav':\n",
    "        sound = AudioSegment.from_mp3(old_path+'/'+file)\n",
    "    if file_type == 'mp3':\n",
    "        sound = AudioSegment.from_wav(old_path+'/'+file)\n",
    "    path = '%s/%s.%s' % (new_path,file[:-4],file_type)\n",
    "    sound.export(path, format=file_type)\n",
    "\n",
    "print('Converting %s to %s' % (start,end))\n",
    "paths = ['/Clean','/Raw/RAVDESS','/Raw/CREMA_D']\n",
    "errors = []\n",
    "\n",
    "count = 1\n",
    "for path in paths:\n",
    "    # set up paths\n",
    "    go_to_path = old_folder+path\n",
    "    current_in = new_folder+path\n",
    "    # create folders if they dont exist\n",
    "    if os.path.exists(go_to_path) == False:\n",
    "        make = str(go_to_path)\n",
    "        for folder in path.split('/'): \n",
    "            make+=('/'+folder)\n",
    "            try:\n",
    "                os.mkdir(make)\n",
    "            except:\n",
    "                pass\n",
    "    # convert files\n",
    "    for file in os.listdir(current_in):\n",
    "        if start in file:\n",
    "            try:\n",
    "                file_to(end,file,current_in,go_to_path)\n",
    "            except:\n",
    "                errors.append(current_in)\n",
    "            print('%4d of %d complete (%d%%)' % (count,17724,(count/17724)*100),end='\\r')\n",
    "            count+=1"
   ]
  }
 ],
 "metadata": {
  "kernelspec": {
   "display_name": "Python 3",
   "language": "python",
   "name": "python3"
  },
  "language_info": {
   "codemirror_mode": {
    "name": "ipython",
    "version": 3
   },
   "file_extension": ".py",
   "mimetype": "text/x-python",
   "name": "python",
   "nbconvert_exporter": "python",
   "pygments_lexer": "ipython3",
   "version": "3.8.5"
  }
 },
 "nbformat": 4,
 "nbformat_minor": 5
}
