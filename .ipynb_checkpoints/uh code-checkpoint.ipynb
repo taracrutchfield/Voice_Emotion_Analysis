{
 "cells": [
  {
   "cell_type": "code",
   "execution_count": null,
   "id": "incoming-lounge",
   "metadata": {},
   "outputs": [],
   "source": [
    "def plot_bar(data,column,split,colors=None):\n",
    "    '''Takes data frame, target column, and column split value'''\n",
    "    data = data.dropna()\n",
    "    bar_data = pd.DataFrame()\n",
    "    for label in data[split].unique():\n",
    "        counts = pd.Series(data[data[split]==label][column].value_counts())\n",
    "        counts = dict(zip(counts.index,counts.values))\n",
    "        counts[split] = label\n",
    "        bar_data = bar_data.append(counts,ignore_index=True)\n",
    "    bar_data = bar_data.fillna(0).set_index(split)   \n",
    "\n",
    "    ax = plt.subplot()\n",
    "    bottom = np.zeros(len(bar_data.columns))\n",
    "    for index,color in list(zip(bar_data.index,colors)):\n",
    "        entry = bar_data.loc[index]\n",
    "        if colors.any() == None:\n",
    "            color = None\n",
    "        mpl.pyplot.bar(entry.index,entry.values,bottom=bottom,label=str(index),color=color)\n",
    "        bottom += entry.values\n",
    "    plt.legend();\n",
    "    \n",
    "plot_bar(data,'race','sex',colors=viridis[[2,4]])"
   ]
  }
 ],
 "metadata": {
  "kernelspec": {
   "display_name": "Python 3",
   "language": "python",
   "name": "python3"
  },
  "language_info": {
   "codemirror_mode": {
    "name": "ipython",
    "version": 3
   },
   "file_extension": ".py",
   "mimetype": "text/x-python",
   "name": "python",
   "nbconvert_exporter": "python",
   "pygments_lexer": "ipython3",
   "version": "3.8.5"
  }
 },
 "nbformat": 4,
 "nbformat_minor": 5
}
