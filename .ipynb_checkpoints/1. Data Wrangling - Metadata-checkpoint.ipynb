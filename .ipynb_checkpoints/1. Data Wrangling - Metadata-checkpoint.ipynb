{
 "cells": [
  {
   "cell_type": "markdown",
   "id": "expressed-aruba",
   "metadata": {},
   "source": [
    "# Data Wrangling - Audio Metadata\n",
    "The audio clips used in this project came from two separate databases with different naming conventions. Before getting into the audio filtering and feature selection, I want to create a csv with all the data for each audio clip neatly combined so that I can use it as a legend of sorts.\n",
    "\n",
    "Both databases store information in the filename of each clip. In the case for CREMA-D, more information concerning the actors are found in a separate file `CREMA-D Actors.csv`.\n",
    "\n",
    "By the end of this process, I’ll have a singular file, `Audio Legend.csv` with the following columns:\n",
    "\n",
    " - Path: path to the audio clip\n",
    " - Original: the original clip filename\n",
    " - Statement: an integer denoting which of the fourteen phrases was used\n",
    " - Emotion: the emotion portrayed in the clip\n",
    " - Sex: the sex of the actor\n",
    " - Race: the race of the actor\n",
    "\n"
   ]
  },
  {
   "cell_type": "code",
   "execution_count": 1,
   "id": "fancy-lighter",
   "metadata": {},
   "outputs": [],
   "source": [
    "import numpy as np\n",
    "import os\n",
    "import pandas as pd"
   ]
  },
  {
   "cell_type": "markdown",
   "id": "exclusive-trigger",
   "metadata": {},
   "source": [
    "# Collection\n",
    "Going into the `Data` folder to select the filenames of each audio clip, breaking their names into the respective components, and saving them into a separate dataframe for each database."
   ]
  },
  {
   "cell_type": "code",
   "execution_count": 2,
   "id": "beautiful-georgia",
   "metadata": {},
   "outputs": [
    {
     "name": "stdout",
     "output_type": "stream",
     "text": [
      "1440 of 1440 complete (100%)\r"
     ]
    },
    {
     "data": {
      "text/html": [
       "<div>\n",
       "<style scoped>\n",
       "    .dataframe tbody tr th:only-of-type {\n",
       "        vertical-align: middle;\n",
       "    }\n",
       "\n",
       "    .dataframe tbody tr th {\n",
       "        vertical-align: top;\n",
       "    }\n",
       "\n",
       "    .dataframe thead th {\n",
       "        text-align: right;\n",
       "    }\n",
       "</style>\n",
       "<table border=\"1\" class=\"dataframe\">\n",
       "  <thead>\n",
       "    <tr style=\"text-align: right;\">\n",
       "      <th></th>\n",
       "      <th>0</th>\n",
       "      <th>1</th>\n",
       "      <th>2</th>\n",
       "      <th>3</th>\n",
       "      <th>4</th>\n",
       "      <th>5</th>\n",
       "      <th>6</th>\n",
       "      <th>7</th>\n",
       "      <th>8</th>\n",
       "    </tr>\n",
       "  </thead>\n",
       "  <tbody>\n",
       "    <tr>\n",
       "      <th>0</th>\n",
       "      <td>Data/Audio/Raw/RAVDESS/</td>\n",
       "      <td>03-01-01-01-01-01-01.wav</td>\n",
       "      <td>3</td>\n",
       "      <td>1</td>\n",
       "      <td>1</td>\n",
       "      <td>1</td>\n",
       "      <td>1</td>\n",
       "      <td>1</td>\n",
       "      <td>1</td>\n",
       "    </tr>\n",
       "    <tr>\n",
       "      <th>0</th>\n",
       "      <td>Data/Audio/Raw/RAVDESS/</td>\n",
       "      <td>03-01-01-01-01-01-02.wav</td>\n",
       "      <td>3</td>\n",
       "      <td>1</td>\n",
       "      <td>1</td>\n",
       "      <td>1</td>\n",
       "      <td>1</td>\n",
       "      <td>1</td>\n",
       "      <td>2</td>\n",
       "    </tr>\n",
       "    <tr>\n",
       "      <th>0</th>\n",
       "      <td>Data/Audio/Raw/RAVDESS/</td>\n",
       "      <td>03-01-01-01-01-01-03.wav</td>\n",
       "      <td>3</td>\n",
       "      <td>1</td>\n",
       "      <td>1</td>\n",
       "      <td>1</td>\n",
       "      <td>1</td>\n",
       "      <td>1</td>\n",
       "      <td>3</td>\n",
       "    </tr>\n",
       "  </tbody>\n",
       "</table>\n",
       "</div>"
      ],
      "text/plain": [
       "                         0                         1  2  3  4  5  6  7  8\n",
       "0  Data/Audio/Raw/RAVDESS/  03-01-01-01-01-01-01.wav  3  1  1  1  1  1  1\n",
       "0  Data/Audio/Raw/RAVDESS/  03-01-01-01-01-01-02.wav  3  1  1  1  1  1  2\n",
       "0  Data/Audio/Raw/RAVDESS/  03-01-01-01-01-01-03.wav  3  1  1  1  1  1  3"
      ]
     },
     "execution_count": 2,
     "metadata": {},
     "output_type": "execute_result"
    }
   ],
   "source": [
    "data_RAVDESS = pd.DataFrame()\n",
    "error = []\n",
    "\n",
    "folder = os.listdir('Data/Audio/Raw/RAVDESS/')\n",
    "for count, track in enumerate(folder,start=1):\n",
    "    path = 'Data/Audio/Raw/RAVDESS/'+track\n",
    "    try:\n",
    "        # make a list using the clip name\n",
    "        metadata = [path[:-len(track)],track]\n",
    "        # cut up the name into its seperate components and append to the list\n",
    "        [metadata.append(int(x)) for x in track[:-4].split('-')]\n",
    "        # add the list to the RAVDESS dataset\n",
    "        data_RAVDESS = data_RAVDESS.append([metadata])\n",
    "    except:\n",
    "        error.append(track)\n",
    "    # progress bar\n",
    "    print('%4d of %d complete (%d%%)' % (count,len(folder),(count/len(folder))*100),end='\\r')\n",
    "            \n",
    "data_RAVDESS.head(3)"
   ]
  },
  {
   "cell_type": "code",
   "execution_count": 3,
   "id": "existing-convenience",
   "metadata": {},
   "outputs": [
    {
     "name": "stdout",
     "output_type": "stream",
     "text": [
      "7442 of 7442 complete (100%)\r"
     ]
    },
    {
     "data": {
      "text/html": [
       "<div>\n",
       "<style scoped>\n",
       "    .dataframe tbody tr th:only-of-type {\n",
       "        vertical-align: middle;\n",
       "    }\n",
       "\n",
       "    .dataframe tbody tr th {\n",
       "        vertical-align: top;\n",
       "    }\n",
       "\n",
       "    .dataframe thead th {\n",
       "        text-align: right;\n",
       "    }\n",
       "</style>\n",
       "<table border=\"1\" class=\"dataframe\">\n",
       "  <thead>\n",
       "    <tr style=\"text-align: right;\">\n",
       "      <th></th>\n",
       "      <th>0</th>\n",
       "      <th>1</th>\n",
       "      <th>2</th>\n",
       "      <th>3</th>\n",
       "      <th>4</th>\n",
       "      <th>5</th>\n",
       "    </tr>\n",
       "  </thead>\n",
       "  <tbody>\n",
       "    <tr>\n",
       "      <th>0</th>\n",
       "      <td>Data/Audio/Raw/CREMA_D/</td>\n",
       "      <td>1001_DFA_ANG_XX.wav</td>\n",
       "      <td>1001</td>\n",
       "      <td>DFA</td>\n",
       "      <td>ANG</td>\n",
       "      <td>XX</td>\n",
       "    </tr>\n",
       "    <tr>\n",
       "      <th>0</th>\n",
       "      <td>Data/Audio/Raw/CREMA_D/</td>\n",
       "      <td>1001_DFA_DIS_XX.wav</td>\n",
       "      <td>1001</td>\n",
       "      <td>DFA</td>\n",
       "      <td>DIS</td>\n",
       "      <td>XX</td>\n",
       "    </tr>\n",
       "    <tr>\n",
       "      <th>0</th>\n",
       "      <td>Data/Audio/Raw/CREMA_D/</td>\n",
       "      <td>1001_DFA_FEA_XX.wav</td>\n",
       "      <td>1001</td>\n",
       "      <td>DFA</td>\n",
       "      <td>FEA</td>\n",
       "      <td>XX</td>\n",
       "    </tr>\n",
       "  </tbody>\n",
       "</table>\n",
       "</div>"
      ],
      "text/plain": [
       "                         0                    1     2    3    4   5\n",
       "0  Data/Audio/Raw/CREMA_D/  1001_DFA_ANG_XX.wav  1001  DFA  ANG  XX\n",
       "0  Data/Audio/Raw/CREMA_D/  1001_DFA_DIS_XX.wav  1001  DFA  DIS  XX\n",
       "0  Data/Audio/Raw/CREMA_D/  1001_DFA_FEA_XX.wav  1001  DFA  FEA  XX"
      ]
     },
     "execution_count": 3,
     "metadata": {},
     "output_type": "execute_result"
    }
   ],
   "source": [
    "data_CREMA_D = pd.DataFrame()\n",
    "\n",
    "folder = os.listdir('Data/Audio/Raw/CREMA_D/')\n",
    "for count, track in enumerate(folder,start=1):\n",
    "    path = 'Data/Audio/Raw/CREMA_D/'+track\n",
    "    try:\n",
    "        # make a list using the clip name\n",
    "        metadata = [path[:-len(track)],track]\n",
    "        # cut up the name into its seperate components and append to the list\n",
    "        [metadata.append(x) for x in track[:-4].split('_')]\n",
    "         # add the list to the CREMA-D dataset\n",
    "        data_CREMA_D = data_CREMA_D.append([metadata])\n",
    "    except:\n",
    "        error.append(track)\n",
    "    # progress bar\n",
    "    print('%4d of %d complete (%d%%)' % (count,len(folder),(count/len(folder))*100),end='\\r')\n",
    "        \n",
    "data_CREMA_D.head(3)"
   ]
  },
  {
   "cell_type": "markdown",
   "id": "beneficial-distributor",
   "metadata": {},
   "source": [
    "# Cleaning\n",
    "Clean and combine both datasets"
   ]
  },
  {
   "cell_type": "code",
   "execution_count": 4,
   "id": "comprehensive-eleven",
   "metadata": {},
   "outputs": [
    {
     "name": "stdout",
     "output_type": "stream",
     "text": [
      "<class 'pandas.core.frame.DataFrame'>\n",
      "RangeIndex: 1440 entries, 0 to 1439\n",
      "Data columns (total 5 columns):\n",
      " #   Column    Non-Null Count  Dtype \n",
      "---  ------    --------------  ----- \n",
      " 0   path      1440 non-null   object\n",
      " 1   original  1440 non-null   object\n",
      " 2   emotion   1440 non-null   int64 \n",
      " 3   statment  1440 non-null   int64 \n",
      " 4   actorID   1440 non-null   int64 \n",
      "dtypes: int64(3), object(2)\n",
      "memory usage: 56.4+ KB\n",
      "<class 'pandas.core.frame.DataFrame'>\n",
      "RangeIndex: 7442 entries, 0 to 7441\n",
      "Data columns (total 5 columns):\n",
      " #   Column    Non-Null Count  Dtype \n",
      "---  ------    --------------  ----- \n",
      " 0   path      7442 non-null   object\n",
      " 1   original  7442 non-null   object\n",
      " 2   ActorID   7442 non-null   int32 \n",
      " 3   statment  7442 non-null   object\n",
      " 4   emotion   7442 non-null   object\n",
      "dtypes: int32(1), object(4)\n",
      "memory usage: 261.8+ KB\n"
     ]
    }
   ],
   "source": [
    "# change index to a range of ints\n",
    "data_RAVDESS.index = pd.RangeIndex(0,stop = len(data_RAVDESS))\n",
    "data_CREMA_D.index = pd.RangeIndex(0,stop = len(data_CREMA_D))\n",
    "\n",
    "# drop unnecessary columns\n",
    "data_RAVDESS = data_RAVDESS.drop(columns=[2,3,5,7])\n",
    "data_CREMA_D = data_CREMA_D.drop(columns=[5])\n",
    "\n",
    "# rename columns\n",
    "data_RAVDESS.columns=['path','original','emotion','statment','actorID']\n",
    "data_CREMA_D.columns=['path','original','ActorID','statment','emotion']\n",
    "\n",
    "# make sure id is an int not an object\n",
    "data_CREMA_D[['ActorID']] = data_CREMA_D[['ActorID']].astype('int')\n",
    "\n",
    "data_RAVDESS.info()\n",
    "data_CREMA_D.info()"
   ]
  },
  {
   "cell_type": "markdown",
   "id": "backed-correlation",
   "metadata": {},
   "source": [
    "### Label Convention\n",
    "Make sure that both datasets have the same column labels"
   ]
  },
  {
   "cell_type": "code",
   "execution_count": 5,
   "id": "inside-infection",
   "metadata": {},
   "outputs": [],
   "source": [
    "# Make all the emotions human redable\n",
    "for i,j in [('ANG','anger'),('DIS','disgust'),('FEA','fear'),('NEU','neutral'),('HAP','happy'),('SAD','sad')]:\n",
    "    data_CREMA_D['emotion'] = data_CREMA_D['emotion'].str.replace(i,j)\n",
    "    \n",
    "for i,j in [(1,'neutral'),(2,'calm'),(3,'happy'),(4,'sad'),(5,'anger'),(6,'fear'),(7,'disgust'),(8,'surprised')]:\n",
    "    data_RAVDESS['emotion'] = data_RAVDESS['emotion'].replace(i,j)"
   ]
  },
  {
   "cell_type": "code",
   "execution_count": 6,
   "id": "technological-senior",
   "metadata": {},
   "outputs": [],
   "source": [
    "# Actor gender\n",
    "CREMA_D = pd.read_csv('Data/CSVs/CREMA_D Actors.csv',index_col='Unnamed: 0')\n",
    "data_CREMA_D = data_CREMA_D.merge(CREMA_D[['Sex','ActorID','Race']],on='ActorID',how='inner')\n",
    "data_CREMA_D = data_CREMA_D.drop(columns='ActorID')\n",
    "data_CREMA_D.columns = data_CREMA_D.columns.str.lower()\n",
    "\n",
    "data_RAVDESS['actorID'] = data_RAVDESS['actorID'] % 2\n",
    "data_RAVDESS['actorID'] = data_RAVDESS['actorID'].replace(1,'Male').replace(0,'Female')\n",
    "data_RAVDESS = data_RAVDESS.rename(columns={'actorID':'sex'})"
   ]
  },
  {
   "cell_type": "code",
   "execution_count": 7,
   "id": "republican-shape",
   "metadata": {},
   "outputs": [],
   "source": [
    "# change the statement convention\n",
    "for i,j in enumerate(data_CREMA_D['statment'].unique(),start=3):\n",
    "    data_CREMA_D['statment'] = data_CREMA_D['statment'].replace(j,i)"
   ]
  },
  {
   "cell_type": "markdown",
   "id": "intellectual-active",
   "metadata": {},
   "source": [
    "Overall there are 14 total statements used:\n",
    "\n",
    "- 1: Kids are talking by the door.\n",
    "- 2: Dogs are sitting by the door.\n",
    "- 3: Don't forget a jacket.\n",
    "- 4: It's eleven o'clock.\n",
    "- 5: I'm on my way to the meeting.\n",
    "- 6: I think I have a doctor's appointment.\n",
    "- 7 I think I've seen this before.\n",
    "- 8: I would like a new alarm clock.\n",
    "- 9: I wonder what this is about.\n",
    "- 10: Maybe tomorrow it will be cold.\n",
    "- 11: The airplane is almost full.\n",
    "- 12: That is exactly what happened.\n",
    "- 13: The surface is slick.\n",
    "- 14: We'll stop in a couple of minutes.\n",
    "\n",
    "### Final Check\n",
    "Make sure the columns and column labels are the same."
   ]
  },
  {
   "cell_type": "code",
   "execution_count": 8,
   "id": "bibliographic-statement",
   "metadata": {},
   "outputs": [
    {
     "data": {
      "text/html": [
       "<div>\n",
       "<style scoped>\n",
       "    .dataframe tbody tr th:only-of-type {\n",
       "        vertical-align: middle;\n",
       "    }\n",
       "\n",
       "    .dataframe tbody tr th {\n",
       "        vertical-align: top;\n",
       "    }\n",
       "\n",
       "    .dataframe thead th {\n",
       "        text-align: right;\n",
       "    }\n",
       "</style>\n",
       "<table border=\"1\" class=\"dataframe\">\n",
       "  <thead>\n",
       "    <tr style=\"text-align: right;\">\n",
       "      <th></th>\n",
       "      <th>path</th>\n",
       "      <th>original</th>\n",
       "      <th>statment</th>\n",
       "      <th>emotion</th>\n",
       "      <th>sex</th>\n",
       "      <th>race</th>\n",
       "    </tr>\n",
       "  </thead>\n",
       "  <tbody>\n",
       "    <tr>\n",
       "      <th>0</th>\n",
       "      <td>Data/Audio/Raw/CREMA_D/</td>\n",
       "      <td>1001_DFA_ANG_XX.wav</td>\n",
       "      <td>3</td>\n",
       "      <td>anger</td>\n",
       "      <td>Male</td>\n",
       "      <td>Caucasian</td>\n",
       "    </tr>\n",
       "    <tr>\n",
       "      <th>1</th>\n",
       "      <td>Data/Audio/Raw/CREMA_D/</td>\n",
       "      <td>1001_DFA_DIS_XX.wav</td>\n",
       "      <td>3</td>\n",
       "      <td>disgust</td>\n",
       "      <td>Male</td>\n",
       "      <td>Caucasian</td>\n",
       "    </tr>\n",
       "    <tr>\n",
       "      <th>2</th>\n",
       "      <td>Data/Audio/Raw/CREMA_D/</td>\n",
       "      <td>1001_DFA_FEA_XX.wav</td>\n",
       "      <td>3</td>\n",
       "      <td>fear</td>\n",
       "      <td>Male</td>\n",
       "      <td>Caucasian</td>\n",
       "    </tr>\n",
       "  </tbody>\n",
       "</table>\n",
       "</div>"
      ],
      "text/plain": [
       "                      path             original  statment  emotion   sex  \\\n",
       "0  Data/Audio/Raw/CREMA_D/  1001_DFA_ANG_XX.wav         3    anger  Male   \n",
       "1  Data/Audio/Raw/CREMA_D/  1001_DFA_DIS_XX.wav         3  disgust  Male   \n",
       "2  Data/Audio/Raw/CREMA_D/  1001_DFA_FEA_XX.wav         3     fear  Male   \n",
       "\n",
       "        race  \n",
       "0  Caucasian  \n",
       "1  Caucasian  \n",
       "2  Caucasian  "
      ]
     },
     "execution_count": 8,
     "metadata": {},
     "output_type": "execute_result"
    }
   ],
   "source": [
    "data_CREMA_D.head(3)"
   ]
  },
  {
   "cell_type": "code",
   "execution_count": 9,
   "id": "structural-location",
   "metadata": {},
   "outputs": [
    {
     "data": {
      "text/html": [
       "<div>\n",
       "<style scoped>\n",
       "    .dataframe tbody tr th:only-of-type {\n",
       "        vertical-align: middle;\n",
       "    }\n",
       "\n",
       "    .dataframe tbody tr th {\n",
       "        vertical-align: top;\n",
       "    }\n",
       "\n",
       "    .dataframe thead th {\n",
       "        text-align: right;\n",
       "    }\n",
       "</style>\n",
       "<table border=\"1\" class=\"dataframe\">\n",
       "  <thead>\n",
       "    <tr style=\"text-align: right;\">\n",
       "      <th></th>\n",
       "      <th>path</th>\n",
       "      <th>original</th>\n",
       "      <th>emotion</th>\n",
       "      <th>statment</th>\n",
       "      <th>sex</th>\n",
       "    </tr>\n",
       "  </thead>\n",
       "  <tbody>\n",
       "    <tr>\n",
       "      <th>0</th>\n",
       "      <td>Data/Audio/Raw/RAVDESS/</td>\n",
       "      <td>03-01-01-01-01-01-01.wav</td>\n",
       "      <td>neutral</td>\n",
       "      <td>1</td>\n",
       "      <td>Male</td>\n",
       "    </tr>\n",
       "    <tr>\n",
       "      <th>1</th>\n",
       "      <td>Data/Audio/Raw/RAVDESS/</td>\n",
       "      <td>03-01-01-01-01-01-02.wav</td>\n",
       "      <td>neutral</td>\n",
       "      <td>1</td>\n",
       "      <td>Female</td>\n",
       "    </tr>\n",
       "    <tr>\n",
       "      <th>2</th>\n",
       "      <td>Data/Audio/Raw/RAVDESS/</td>\n",
       "      <td>03-01-01-01-01-01-03.wav</td>\n",
       "      <td>neutral</td>\n",
       "      <td>1</td>\n",
       "      <td>Male</td>\n",
       "    </tr>\n",
       "  </tbody>\n",
       "</table>\n",
       "</div>"
      ],
      "text/plain": [
       "                      path                  original  emotion  statment  \\\n",
       "0  Data/Audio/Raw/RAVDESS/  03-01-01-01-01-01-01.wav  neutral         1   \n",
       "1  Data/Audio/Raw/RAVDESS/  03-01-01-01-01-01-02.wav  neutral         1   \n",
       "2  Data/Audio/Raw/RAVDESS/  03-01-01-01-01-01-03.wav  neutral         1   \n",
       "\n",
       "      sex  \n",
       "0    Male  \n",
       "1  Female  \n",
       "2    Male  "
      ]
     },
     "execution_count": 9,
     "metadata": {},
     "output_type": "execute_result"
    }
   ],
   "source": [
    "data_RAVDESS.head(3)"
   ]
  },
  {
   "cell_type": "code",
   "execution_count": 10,
   "id": "loving-execution",
   "metadata": {},
   "outputs": [
    {
     "name": "stdout",
     "output_type": "stream",
     "text": [
      "<class 'pandas.core.frame.DataFrame'>\n",
      "RangeIndex: 8882 entries, 0 to 8881\n",
      "Data columns (total 6 columns):\n",
      " #   Column    Non-Null Count  Dtype \n",
      "---  ------    --------------  ----- \n",
      " 0   path      8882 non-null   object\n",
      " 1   original  8882 non-null   object\n",
      " 2   statment  8882 non-null   int64 \n",
      " 3   emotion   8882 non-null   object\n",
      " 4   sex       8882 non-null   object\n",
      " 5   race      7442 non-null   object\n",
      "dtypes: int64(1), object(5)\n",
      "memory usage: 416.5+ KB\n"
     ]
    }
   ],
   "source": [
    "# append data together\n",
    "data = data_CREMA_D.append(data_RAVDESS)\n",
    "data.index = pd.RangeIndex(0,len(data))\n",
    "data.info()"
   ]
  },
  {
   "cell_type": "code",
   "execution_count": 11,
   "id": "expressed-moderator",
   "metadata": {},
   "outputs": [
    {
     "name": "stdout",
     "output_type": "stream",
     "text": [
      "<class 'pandas.core.frame.DataFrame'>\n",
      "RangeIndex: 8882 entries, 0 to 8881\n",
      "Data columns (total 6 columns):\n",
      " #   Column    Non-Null Count  Dtype \n",
      "---  ------    --------------  ----- \n",
      " 0   path      8882 non-null   object\n",
      " 1   original  8882 non-null   object\n",
      " 2   statment  8882 non-null   int64 \n",
      " 3   emotion   8882 non-null   object\n",
      " 4   sex       8882 non-null   object\n",
      " 5   race      7442 non-null   object\n",
      "dtypes: int64(1), object(5)\n",
      "memory usage: 416.5+ KB\n"
     ]
    }
   ],
   "source": [
    "#save as csv\n",
    "data.to_csv('Data/CSVs/Audio Legend Raw.csv')\n",
    "data.info()"
   ]
  }
 ],
 "metadata": {
  "kernelspec": {
   "display_name": "Python 3",
   "language": "python",
   "name": "python3"
  },
  "language_info": {
   "codemirror_mode": {
    "name": "ipython",
    "version": 3
   },
   "file_extension": ".py",
   "mimetype": "text/x-python",
   "name": "python",
   "nbconvert_exporter": "python",
   "pygments_lexer": "ipython3",
   "version": "3.8.5"
  }
 },
 "nbformat": 4,
 "nbformat_minor": 5
}
